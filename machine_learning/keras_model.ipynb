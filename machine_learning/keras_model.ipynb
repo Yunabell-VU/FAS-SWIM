{
 "cells": [
  {
   "cell_type": "code",
   "execution_count": 21,
   "metadata": {},
   "outputs": [],
   "source": [
    "import pandas as pd\n",
    "import seaborn as sns\n",
    "import numpy as np\n",
    "from math import sqrt\n",
    "\n",
    "import matplotlib.pyplot as plt\n",
    "%matplotlib inline\n",
    "\n",
    "from matplotlib.pylab import rcParams\n",
    "rcParams['figure.figsize'] = 16, 8\n",
    "\n",
    "from scipy.stats import norm\n",
    "from scipy import stats\n",
    "\n",
    "import sklearn\n",
    "from sklearn.preprocessing import StandardScaler\n",
    "from sklearn.model_selection import train_test_split\n",
    "\n",
    "from sklearn.linear_model import LinearRegression\n",
    "\n",
    "import warnings\n",
    "warnings.filterwarnings('ignore')"
   ]
  },
  {
   "cell_type": "code",
   "execution_count": 22,
   "metadata": {},
   "outputs": [],
   "source": [
    "df_0 = pd.read_csv('dataset-s0.csv', delimiter=',')\n",
    "df_0 = df_0.pivot_table('value', ['time'], 'variable')"
   ]
  },
  {
   "cell_type": "code",
   "execution_count": 23,
   "metadata": {},
   "outputs": [],
   "source": [
    "df_1 = pd.read_csv('dataset-s1.csv', delimiter=',')\n",
    "df_1 = df_1.pivot_table('value', ['time'], 'variable')"
   ]
  },
  {
   "cell_type": "code",
   "execution_count": 24,
   "metadata": {},
   "outputs": [],
   "source": [
    "df_2 = pd.read_csv('dataset-o1.csv', delimiter=',')\n",
    "df_2 = df_2.pivot_table('value', ['time'], 'variable')"
   ]
  },
  {
   "cell_type": "code",
   "execution_count": 25,
   "metadata": {},
   "outputs": [],
   "source": [
    "df_3 = pd.read_csv('dataset-o2.csv', delimiter=',')\n",
    "df_3 = df_3.pivot_table('value', ['time'], 'variable')"
   ]
  },
  {
   "cell_type": "code",
   "execution_count": 26,
   "metadata": {},
   "outputs": [],
   "source": [
    "frames = [df_0, df_1, df_2, df_3]\n",
    "df = pd.concat(frames)"
   ]
  },
  {
   "cell_type": "code",
   "execution_count": 27,
   "metadata": {},
   "outputs": [],
   "source": [
    "df=df.dropna(axis=0)"
   ]
  },
  {
   "cell_type": "code",
   "execution_count": 28,
   "metadata": {},
   "outputs": [],
   "source": [
    "df.drop(columns=[\"servers\", \"utility\"], axis = 1, inplace=True)"
   ]
  },
  {
   "attachments": {},
   "cell_type": "markdown",
   "metadata": {},
   "source": [
    "## Training"
   ]
  },
  {
   "cell_type": "code",
   "execution_count": 29,
   "metadata": {},
   "outputs": [],
   "source": [
    "features = ['activeServers', 'dimmer', 'requestRate']\n",
    "X = df[features]\n",
    "y = df['responseTime']"
   ]
  },
  {
   "cell_type": "code",
   "execution_count": 30,
   "metadata": {},
   "outputs": [],
   "source": [
    "X_train, X_test, y_train, y_test = train_test_split(X, y, test_size = 0.3)"
   ]
  },
  {
   "cell_type": "code",
   "execution_count": 31,
   "metadata": {},
   "outputs": [],
   "source": [
    "from sklearn.linear_model import LinearRegression\n",
    "\n",
    "linear_reg = LinearRegression().fit(X, y)"
   ]
  },
  {
   "cell_type": "code",
   "execution_count": 32,
   "metadata": {},
   "outputs": [
    {
     "name": "stdout",
     "output_type": "stream",
     "text": [
      "0.22330124551507413\n",
      "0.08328899782500121\n"
     ]
    }
   ],
   "source": [
    "print(linear_reg.score(X_train, y_train))\n",
    "print(linear_reg.score(X_test, y_test))"
   ]
  },
  {
   "cell_type": "code",
   "execution_count": 33,
   "metadata": {},
   "outputs": [
    {
     "name": "stdout",
     "output_type": "stream",
     "text": [
      "1.0393371731748409\n"
     ]
    }
   ],
   "source": [
    "from sklearn.metrics import mean_squared_error\n",
    "y_pred = linear_reg.predict(X_test)\n",
    "print(mean_squared_error(y_test, y_pred))"
   ]
  },
  {
   "cell_type": "code",
   "execution_count": 34,
   "metadata": {},
   "outputs": [
    {
     "data": {
      "text/plain": [
       "RandomForestRegressor(max_depth=2, random_state=0)"
      ]
     },
     "execution_count": 34,
     "metadata": {},
     "output_type": "execute_result"
    }
   ],
   "source": [
    "from sklearn.ensemble import RandomForestRegressor\n",
    "from sklearn.datasets import make_regression\n",
    "rf_regr = RandomForestRegressor(max_depth=2, random_state=0)\n",
    "rf_regr.fit(X, y)"
   ]
  },
  {
   "cell_type": "code",
   "execution_count": 35,
   "metadata": {},
   "outputs": [
    {
     "name": "stdout",
     "output_type": "stream",
     "text": [
      "0.38584428382737657\n",
      "0.14314132941504232\n"
     ]
    }
   ],
   "source": [
    "print(rf_regr.score(X_train, y_train))\n",
    "print(rf_regr.score(X_test, y_test))"
   ]
  },
  {
   "cell_type": "code",
   "execution_count": 36,
   "metadata": {},
   "outputs": [
    {
     "name": "stdout",
     "output_type": "stream",
     "text": [
      "0.971478542728469\n"
     ]
    }
   ],
   "source": [
    "y_pred = rf_regr.predict(X_test)\n",
    "print(mean_squared_error(y_test, y_pred))"
   ]
  },
  {
   "cell_type": "code",
   "execution_count": 37,
   "metadata": {},
   "outputs": [
    {
     "data": {
      "text/plain": [
       "KNeighborsRegressor(n_neighbors=2)"
      ]
     },
     "execution_count": 37,
     "metadata": {},
     "output_type": "execute_result"
    }
   ],
   "source": [
    "from sklearn.neighbors import KNeighborsRegressor\n",
    "neigh = KNeighborsRegressor(n_neighbors=2)\n",
    "neigh.fit(X, y)"
   ]
  },
  {
   "cell_type": "code",
   "execution_count": 38,
   "metadata": {},
   "outputs": [
    {
     "name": "stdout",
     "output_type": "stream",
     "text": [
      "0.7052071375890998\n",
      "0.6989194602309972\n"
     ]
    }
   ],
   "source": [
    "print(neigh.score(X_train, y_train))\n",
    "print(neigh.score(X_test, y_test))"
   ]
  },
  {
   "cell_type": "code",
   "execution_count": 39,
   "metadata": {},
   "outputs": [
    {
     "name": "stdout",
     "output_type": "stream",
     "text": [
      "0.34135534138787815\n"
     ]
    }
   ],
   "source": [
    "y_pred = neigh.predict(X_test)\n",
    "print(mean_squared_error(y_test, y_pred))"
   ]
  },
  {
   "cell_type": "code",
   "execution_count": 42,
   "metadata": {},
   "outputs": [],
   "source": [
    "import os\n",
    "os.environ['TF_CPP_MIN_LOG_LEVEL'] = '2'\n",
    "\n",
    "import keras\n",
    "from keras.models import Sequential\n",
    "from keras.layers import Dense"
   ]
  },
  {
   "cell_type": "code",
   "execution_count": 54,
   "metadata": {},
   "outputs": [
    {
     "data": {
      "text/plain": [
       "variable\n",
       "activeServers    0\n",
       "dimmer           0\n",
       "requestRate      0\n",
       "responseTime     0\n",
       "dtype: int64"
      ]
     },
     "execution_count": 54,
     "metadata": {},
     "output_type": "execute_result"
    }
   ],
   "source": [
    "df.isna().sum()"
   ]
  },
  {
   "cell_type": "code",
   "execution_count": 55,
   "metadata": {},
   "outputs": [],
   "source": [
    "model = Sequential()\n",
    "model.add(Dense(100, input_dim=3, activation= \"relu\", input_shape=[len(X_train.keys())]))\n",
    "model.add(Dense(50, activation= \"relu\"))\n",
    "model.add(Dense(0, activation= \"relu\"))\n",
    "model.add(Dense(1))"
   ]
  },
  {
   "cell_type": "code",
   "execution_count": 56,
   "metadata": {},
   "outputs": [],
   "source": [
    "model.compile(loss= \"mean_squared_error\" , optimizer=\"adam\", metrics=[\"mean_squared_error\"])\n"
   ]
  },
  {
   "cell_type": "code",
   "execution_count": 58,
   "metadata": {},
   "outputs": [
    {
     "name": "stdout",
     "output_type": "stream",
     "text": [
      "Epoch 1/20\n",
      "28/28 [==============================] - 0s 1ms/step - loss: 0.9577 - mean_squared_error: 0.9577\n",
      "Epoch 2/20\n",
      "28/28 [==============================] - 0s 2ms/step - loss: 0.9577 - mean_squared_error: 0.9577\n",
      "Epoch 3/20\n",
      "28/28 [==============================] - 0s 3ms/step - loss: 0.9577 - mean_squared_error: 0.9577\n",
      "Epoch 4/20\n",
      "28/28 [==============================] - 0s 2ms/step - loss: 0.9577 - mean_squared_error: 0.9577\n",
      "Epoch 5/20\n",
      "28/28 [==============================] - 0s 1ms/step - loss: 0.9577 - mean_squared_error: 0.9577\n",
      "Epoch 6/20\n",
      "28/28 [==============================] - 0s 1ms/step - loss: 0.9577 - mean_squared_error: 0.9577\n",
      "Epoch 7/20\n",
      "28/28 [==============================] - 0s 1ms/step - loss: 0.9577 - mean_squared_error: 0.9577\n",
      "Epoch 8/20\n",
      "28/28 [==============================] - 0s 1ms/step - loss: 0.9577 - mean_squared_error: 0.9577\n",
      "Epoch 9/20\n",
      "28/28 [==============================] - 0s 1ms/step - loss: 0.9577 - mean_squared_error: 0.9577\n",
      "Epoch 10/20\n",
      "28/28 [==============================] - 0s 2ms/step - loss: 0.9577 - mean_squared_error: 0.9577\n",
      "Epoch 11/20\n",
      "28/28 [==============================] - 0s 1ms/step - loss: 0.9577 - mean_squared_error: 0.9577\n",
      "Epoch 12/20\n",
      "28/28 [==============================] - 0s 2ms/step - loss: 0.9577 - mean_squared_error: 0.9577\n",
      "Epoch 13/20\n",
      "28/28 [==============================] - 0s 1ms/step - loss: 0.9577 - mean_squared_error: 0.9577\n",
      "Epoch 14/20\n",
      "28/28 [==============================] - 0s 1ms/step - loss: 0.9577 - mean_squared_error: 0.9577\n",
      "Epoch 15/20\n",
      "28/28 [==============================] - 0s 1ms/step - loss: 0.9577 - mean_squared_error: 0.9577\n",
      "Epoch 16/20\n",
      "28/28 [==============================] - 0s 1ms/step - loss: 0.9577 - mean_squared_error: 0.9577\n",
      "Epoch 17/20\n",
      "28/28 [==============================] - 0s 1ms/step - loss: 0.9577 - mean_squared_error: 0.9577\n",
      "Epoch 18/20\n",
      "28/28 [==============================] - 0s 1ms/step - loss: 0.9577 - mean_squared_error: 0.9577\n",
      "Epoch 19/20\n",
      "28/28 [==============================] - 0s 1ms/step - loss: 0.9577 - mean_squared_error: 0.9577\n",
      "Epoch 20/20\n",
      "28/28 [==============================] - 0s 2ms/step - loss: 0.9577 - mean_squared_error: 0.9577\n"
     ]
    },
    {
     "data": {
      "text/plain": [
       "<keras.callbacks.History at 0x141267160>"
      ]
     },
     "execution_count": 58,
     "metadata": {},
     "output_type": "execute_result"
    }
   ],
   "source": [
    "model.fit(X_train, y_train, epochs=20)"
   ]
  },
  {
   "cell_type": "code",
   "execution_count": 59,
   "metadata": {},
   "outputs": [
    {
     "name": "stdout",
     "output_type": "stream",
     "text": [
      "28/28 [==============================] - 0s 819us/step\n",
      "1.0584717776220625\n",
      "12/12 [==============================] - 0s 1ms/step\n",
      "1.1457947542123688\n"
     ]
    }
   ],
   "source": [
    "pred_train= model.predict(X_train)\n",
    "print(np.sqrt(mean_squared_error(y_train,pred_train)))\n",
    "\n",
    "pred= model.predict(X_test)\n",
    "print(np.sqrt(mean_squared_error(y_test,pred))) "
   ]
  }
 ],
 "metadata": {
  "kernelspec": {
   "display_name": "Python 3",
   "language": "python",
   "name": "python3"
  },
  "language_info": {
   "codemirror_mode": {
    "name": "ipython",
    "version": 3
   },
   "file_extension": ".py",
   "mimetype": "text/x-python",
   "name": "python",
   "nbconvert_exporter": "python",
   "pygments_lexer": "ipython3",
   "version": "3.9.16"
  },
  "orig_nbformat": 4,
  "vscode": {
   "interpreter": {
    "hash": "397704579725e15f5c7cb49fe5f0341eb7531c82d19f2c29d197e8b64ab5776b"
   }
  }
 },
 "nbformat": 4,
 "nbformat_minor": 2
}
