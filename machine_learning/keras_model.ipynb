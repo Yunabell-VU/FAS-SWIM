{
 "cells": [
  {
   "cell_type": "code",
   "execution_count": 28,
   "metadata": {},
   "outputs": [],
   "source": [
    "import pandas as pd\n",
    "import seaborn as sns\n",
    "import numpy as np\n",
    "from math import sqrt\n",
    "\n",
    "import matplotlib.pyplot as plt\n",
    "%matplotlib inline\n",
    "\n",
    "from matplotlib.pylab import rcParams\n",
    "rcParams['figure.figsize'] = 16, 8\n",
    "\n",
    "from scipy.stats import norm\n",
    "from scipy import stats\n",
    "\n",
    "import sklearn\n",
    "from sklearn.preprocessing import StandardScaler\n",
    "from sklearn.model_selection import train_test_split\n",
    "\n",
    "from sklearn.linear_model import LinearRegression\n",
    "\n",
    "import warnings\n",
    "warnings.filterwarnings('ignore')"
   ]
  },
  {
   "cell_type": "code",
   "execution_count": 29,
   "metadata": {},
   "outputs": [],
   "source": [
    "df_0 = pd.read_csv('dataset-s0.csv', delimiter=',')\n",
    "df_0 = df_0.pivot_table('value', ['time'], 'variable')"
   ]
  },
  {
   "cell_type": "code",
   "execution_count": 30,
   "metadata": {},
   "outputs": [],
   "source": [
    "df_1 = pd.read_csv('dataset-s1.csv', delimiter=',')\n",
    "df_1 = df_1.pivot_table('value', ['time'], 'variable')"
   ]
  },
  {
   "cell_type": "code",
   "execution_count": 31,
   "metadata": {},
   "outputs": [],
   "source": [
    "df_2 = pd.read_csv('dataset-o1.csv', delimiter=',')\n",
    "df_2 = df_2.pivot_table('value', ['time'], 'variable')"
   ]
  },
  {
   "cell_type": "code",
   "execution_count": 32,
   "metadata": {},
   "outputs": [],
   "source": [
    "df_3 = pd.read_csv('dataset-o2.csv', delimiter=',')\n",
    "df_3 = df_3.pivot_table('value', ['time'], 'variable')"
   ]
  },
  {
   "cell_type": "code",
   "execution_count": 33,
   "metadata": {},
   "outputs": [],
   "source": [
    "df_4 = pd.read_csv('dataset-s4.csv', delimiter=',')\n",
    "df_4 = df_4.pivot_table('value', ['time'], 'variable')"
   ]
  },
  {
   "cell_type": "code",
   "execution_count": 34,
   "metadata": {},
   "outputs": [],
   "source": [
    "df_5 = pd.read_csv('dataset-s5.csv', delimiter=',')\n",
    "df_5 = df_5.pivot_table('value', ['time'], 'variable')"
   ]
  },
  {
   "cell_type": "code",
   "execution_count": 35,
   "metadata": {},
   "outputs": [],
   "source": [
    "frames = [df_0, df_1, df_2, df_3,df_4]\n",
    "df = pd.concat(frames)"
   ]
  },
  {
   "cell_type": "code",
   "execution_count": 36,
   "metadata": {},
   "outputs": [],
   "source": [
    "df=df.dropna(axis=0)\n",
    "df.isna().sum()"
   ]
  },
  {
   "cell_type": "code",
   "execution_count": 37,
   "metadata": {},
   "outputs": [],
   "source": [
    "df.drop(columns=[\"servers\", \"utility\"], axis = 1, inplace=True)"
   ]
  },
  {
   "cell_type": "code",
   "execution_count": 56,
   "metadata": {},
   "outputs": [
    {
     "data": {
      "text/html": [
       "<div>\n",
       "<style scoped>\n",
       "    .dataframe tbody tr th:only-of-type {\n",
       "        vertical-align: middle;\n",
       "    }\n",
       "\n",
       "    .dataframe tbody tr th {\n",
       "        vertical-align: top;\n",
       "    }\n",
       "\n",
       "    .dataframe thead th {\n",
       "        text-align: right;\n",
       "    }\n",
       "</style>\n",
       "<table border=\"1\" class=\"dataframe\">\n",
       "  <thead>\n",
       "    <tr style=\"text-align: right;\">\n",
       "      <th>variable</th>\n",
       "      <th>activeServers</th>\n",
       "      <th>dimmer</th>\n",
       "      <th>requestRate</th>\n",
       "      <th>responseTime</th>\n",
       "    </tr>\n",
       "  </thead>\n",
       "  <tbody>\n",
       "    <tr>\n",
       "      <th>count</th>\n",
       "      <td>1800.000000</td>\n",
       "      <td>1800.000000</td>\n",
       "      <td>1800.000000</td>\n",
       "      <td>1800.000000</td>\n",
       "    </tr>\n",
       "    <tr>\n",
       "      <th>mean</th>\n",
       "      <td>2.483889</td>\n",
       "      <td>0.977000</td>\n",
       "      <td>24.691132</td>\n",
       "      <td>0.791878</td>\n",
       "    </tr>\n",
       "    <tr>\n",
       "      <th>std</th>\n",
       "      <td>0.724974</td>\n",
       "      <td>0.070702</td>\n",
       "      <td>18.484947</td>\n",
       "      <td>2.437320</td>\n",
       "    </tr>\n",
       "    <tr>\n",
       "      <th>min</th>\n",
       "      <td>1.000000</td>\n",
       "      <td>0.300000</td>\n",
       "      <td>6.370498</td>\n",
       "      <td>0.011549</td>\n",
       "    </tr>\n",
       "    <tr>\n",
       "      <th>25%</th>\n",
       "      <td>2.000000</td>\n",
       "      <td>1.000000</td>\n",
       "      <td>8.022232</td>\n",
       "      <td>0.038394</td>\n",
       "    </tr>\n",
       "    <tr>\n",
       "      <th>50%</th>\n",
       "      <td>3.000000</td>\n",
       "      <td>1.000000</td>\n",
       "      <td>19.488683</td>\n",
       "      <td>0.041307</td>\n",
       "    </tr>\n",
       "    <tr>\n",
       "      <th>75%</th>\n",
       "      <td>3.000000</td>\n",
       "      <td>1.000000</td>\n",
       "      <td>35.136072</td>\n",
       "      <td>0.049256</td>\n",
       "    </tr>\n",
       "    <tr>\n",
       "      <th>max</th>\n",
       "      <td>3.000000</td>\n",
       "      <td>1.000000</td>\n",
       "      <td>84.228284</td>\n",
       "      <td>13.598175</td>\n",
       "    </tr>\n",
       "  </tbody>\n",
       "</table>\n",
       "</div>"
      ],
      "text/plain": [
       "variable  activeServers       dimmer  requestRate  responseTime\n",
       "count       1800.000000  1800.000000  1800.000000   1800.000000\n",
       "mean           2.483889     0.977000    24.691132      0.791878\n",
       "std            0.724974     0.070702    18.484947      2.437320\n",
       "min            1.000000     0.300000     6.370498      0.011549\n",
       "25%            2.000000     1.000000     8.022232      0.038394\n",
       "50%            3.000000     1.000000    19.488683      0.041307\n",
       "75%            3.000000     1.000000    35.136072      0.049256\n",
       "max            3.000000     1.000000    84.228284     13.598175"
      ]
     },
     "execution_count": 56,
     "metadata": {},
     "output_type": "execute_result"
    }
   ],
   "source": [
    "df.describe()"
   ]
  },
  {
   "attachments": {},
   "cell_type": "markdown",
   "metadata": {},
   "source": [
    "## Training"
   ]
  },
  {
   "cell_type": "code",
   "execution_count": 38,
   "metadata": {},
   "outputs": [],
   "source": [
    "features = ['activeServers', 'dimmer', 'requestRate']\n",
    "X = df[features]\n",
    "y = df['responseTime']"
   ]
  },
  {
   "cell_type": "code",
   "execution_count": 39,
   "metadata": {},
   "outputs": [],
   "source": [
    "X_train, X_test, y_train, y_test = train_test_split(X, y, test_size = 0.3)"
   ]
  },
  {
   "cell_type": "code",
   "execution_count": 40,
   "metadata": {},
   "outputs": [],
   "source": [
    "from sklearn.linear_model import LinearRegression\n",
    "\n",
    "linear_reg = LinearRegression().fit(X, y)"
   ]
  },
  {
   "cell_type": "code",
   "execution_count": 41,
   "metadata": {},
   "outputs": [
    {
     "name": "stdout",
     "output_type": "stream",
     "text": [
      "0.30123035917252294\n",
      "0.30834252857412536\n"
     ]
    }
   ],
   "source": [
    "print(linear_reg.score(X_train, y_train))\n",
    "print(linear_reg.score(X_test, y_test))"
   ]
  },
  {
   "cell_type": "code",
   "execution_count": 42,
   "metadata": {},
   "outputs": [
    {
     "name": "stdout",
     "output_type": "stream",
     "text": [
      "4.342492174452417\n"
     ]
    }
   ],
   "source": [
    "from sklearn.metrics import mean_squared_error\n",
    "y_pred = linear_reg.predict(X_test)\n",
    "print(mean_squared_error(y_test, y_pred))"
   ]
  },
  {
   "cell_type": "code",
   "execution_count": 43,
   "metadata": {},
   "outputs": [
    {
     "data": {
      "text/plain": [
       "RandomForestRegressor(max_depth=2, random_state=0)"
      ]
     },
     "execution_count": 43,
     "metadata": {},
     "output_type": "execute_result"
    }
   ],
   "source": [
    "from sklearn.ensemble import RandomForestRegressor\n",
    "from sklearn.datasets import make_regression\n",
    "rf_regr = RandomForestRegressor(max_depth=2, random_state=0)\n",
    "rf_regr.fit(X, y)"
   ]
  },
  {
   "cell_type": "code",
   "execution_count": 44,
   "metadata": {},
   "outputs": [
    {
     "name": "stdout",
     "output_type": "stream",
     "text": [
      "0.7038759993245234\n",
      "0.7922537103523244\n"
     ]
    }
   ],
   "source": [
    "print(rf_regr.score(X_train, y_train))\n",
    "print(rf_regr.score(X_test, y_test))"
   ]
  },
  {
   "cell_type": "code",
   "execution_count": 45,
   "metadata": {},
   "outputs": [
    {
     "name": "stdout",
     "output_type": "stream",
     "text": [
      "1.3043112730449826\n"
     ]
    }
   ],
   "source": [
    "y_pred = rf_regr.predict(X_test)\n",
    "print(mean_squared_error(y_test, y_pred))"
   ]
  },
  {
   "cell_type": "code",
   "execution_count": 46,
   "metadata": {},
   "outputs": [
    {
     "data": {
      "text/plain": [
       "KNeighborsRegressor(n_neighbors=2)"
      ]
     },
     "execution_count": 46,
     "metadata": {},
     "output_type": "execute_result"
    }
   ],
   "source": [
    "from sklearn.neighbors import KNeighborsRegressor\n",
    "neigh = KNeighborsRegressor(n_neighbors=2)\n",
    "neigh.fit(X, y)"
   ]
  },
  {
   "cell_type": "code",
   "execution_count": 47,
   "metadata": {},
   "outputs": [
    {
     "name": "stdout",
     "output_type": "stream",
     "text": [
      "0.89190807088111\n",
      "0.875559169140698\n"
     ]
    }
   ],
   "source": [
    "print(neigh.score(X_train, y_train))\n",
    "print(neigh.score(X_test, y_test))"
   ]
  },
  {
   "cell_type": "code",
   "execution_count": 48,
   "metadata": {},
   "outputs": [
    {
     "name": "stdout",
     "output_type": "stream",
     "text": [
      "0.7812874963598061\n"
     ]
    }
   ],
   "source": [
    "y_pred = neigh.predict(X_test)\n",
    "print(mean_squared_error(y_test, y_pred))"
   ]
  },
  {
   "cell_type": "code",
   "execution_count": 49,
   "metadata": {},
   "outputs": [],
   "source": [
    "import os\n",
    "os.environ['TF_CPP_MIN_LOG_LEVEL'] = '2'\n",
    "\n",
    "import keras\n",
    "from keras.models import Sequential\n",
    "from keras.layers import Input, Dense\n",
    "from tensorflow.keras.models import Model"
   ]
  },
  {
   "cell_type": "code",
   "execution_count": 51,
   "metadata": {},
   "outputs": [],
   "source": [
    "model = Sequential()\n",
    "model.add(Dense(100, input_dim=3, activation= \"relu\", input_shape=[len(X_train.keys())]))\n",
    "model.add(Dense(50, activation= \"relu\"))\n",
    "model.add(Dense(0, activation= \"relu\"))\n",
    "model.add(Dense(1))"
   ]
  },
  {
   "cell_type": "code",
   "execution_count": 52,
   "metadata": {},
   "outputs": [],
   "source": [
    "model.compile(loss= \"mean_squared_error\" , optimizer=\"adam\", metrics=[\"mean_squared_error\"])\n"
   ]
  },
  {
   "cell_type": "code",
   "execution_count": 53,
   "metadata": {},
   "outputs": [
    {
     "name": "stdout",
     "output_type": "stream",
     "text": [
      "Epoch 1/20\n",
      "40/40 [==============================] - 1s 1ms/step - loss: 6.4071 - mean_squared_error: 6.4071\n",
      "Epoch 2/20\n",
      "40/40 [==============================] - 0s 2ms/step - loss: 6.4071 - mean_squared_error: 6.4071\n",
      "Epoch 3/20\n",
      "40/40 [==============================] - 0s 2ms/step - loss: 6.4071 - mean_squared_error: 6.4071\n",
      "Epoch 4/20\n",
      "40/40 [==============================] - 0s 2ms/step - loss: 6.4071 - mean_squared_error: 6.4071\n",
      "Epoch 5/20\n",
      "40/40 [==============================] - 0s 2ms/step - loss: 6.4071 - mean_squared_error: 6.4071\n",
      "Epoch 6/20\n",
      "40/40 [==============================] - 0s 2ms/step - loss: 6.4071 - mean_squared_error: 6.4071\n",
      "Epoch 7/20\n",
      "40/40 [==============================] - 0s 1ms/step - loss: 6.4071 - mean_squared_error: 6.4071\n",
      "Epoch 8/20\n",
      "40/40 [==============================] - 0s 1ms/step - loss: 6.4071 - mean_squared_error: 6.4071\n",
      "Epoch 9/20\n",
      "40/40 [==============================] - 0s 1ms/step - loss: 6.4071 - mean_squared_error: 6.4071\n",
      "Epoch 10/20\n",
      "40/40 [==============================] - 0s 1ms/step - loss: 6.4071 - mean_squared_error: 6.4071\n",
      "Epoch 11/20\n",
      "40/40 [==============================] - 0s 1ms/step - loss: 6.4071 - mean_squared_error: 6.4071\n",
      "Epoch 12/20\n",
      "40/40 [==============================] - 0s 1ms/step - loss: 6.4071 - mean_squared_error: 6.4071\n",
      "Epoch 13/20\n",
      "40/40 [==============================] - 0s 964us/step - loss: 6.4071 - mean_squared_error: 6.4071\n",
      "Epoch 14/20\n",
      "40/40 [==============================] - 0s 954us/step - loss: 6.4071 - mean_squared_error: 6.4071\n",
      "Epoch 15/20\n",
      "40/40 [==============================] - 0s 944us/step - loss: 6.4071 - mean_squared_error: 6.4071\n",
      "Epoch 16/20\n",
      "40/40 [==============================] - 0s 923us/step - loss: 6.4071 - mean_squared_error: 6.4071\n",
      "Epoch 17/20\n",
      "40/40 [==============================] - 0s 905us/step - loss: 6.4071 - mean_squared_error: 6.4071\n",
      "Epoch 18/20\n",
      "40/40 [==============================] - 0s 935us/step - loss: 6.4071 - mean_squared_error: 6.4071\n",
      "Epoch 19/20\n",
      "40/40 [==============================] - 0s 973us/step - loss: 6.4071 - mean_squared_error: 6.4071\n",
      "Epoch 20/20\n",
      "40/40 [==============================] - 0s 977us/step - loss: 6.4071 - mean_squared_error: 6.4071\n"
     ]
    },
    {
     "data": {
      "text/plain": [
       "<keras.callbacks.History at 0x149d4e2b0>"
      ]
     },
     "execution_count": 53,
     "metadata": {},
     "output_type": "execute_result"
    }
   ],
   "source": [
    "model.fit(X_train, y_train, epochs=20)"
   ]
  },
  {
   "cell_type": "code",
   "execution_count": 54,
   "metadata": {},
   "outputs": [
    {
     "name": "stdout",
     "output_type": "stream",
     "text": [
      "40/40 [==============================] - 0s 1ms/step\n",
      "2.4074816606581284\n",
      "17/17 [==============================] - 0s 1ms/step\n",
      "2.5074435176427223\n"
     ]
    }
   ],
   "source": [
    "pred_train= model.predict(X_train)\n",
    "print(np.sqrt(mean_squared_error(y_train,pred_train)))\n",
    "\n",
    "pred= model.predict(X_test)\n",
    "print(np.sqrt(mean_squared_error(y_test,pred))) "
   ]
  },
  {
   "cell_type": "code",
   "execution_count": 55,
   "metadata": {},
   "outputs": [],
   "source": [
    "model.save('keras_model.h5', include_optimizer=False)"
   ]
  }
 ],
 "metadata": {
  "kernelspec": {
   "display_name": "Python 3",
   "language": "python",
   "name": "python3"
  },
  "language_info": {
   "codemirror_mode": {
    "name": "ipython",
    "version": 3
   },
   "file_extension": ".py",
   "mimetype": "text/x-python",
   "name": "python",
   "nbconvert_exporter": "python",
   "pygments_lexer": "ipython3",
   "version": "3.9.16 (main, Dec  7 2022, 10:15:43) \n[Clang 14.0.0 (clang-1400.0.29.202)]"
  },
  "orig_nbformat": 4,
  "vscode": {
   "interpreter": {
    "hash": "397704579725e15f5c7cb49fe5f0341eb7531c82d19f2c29d197e8b64ab5776b"
   }
  }
 },
 "nbformat": 4,
 "nbformat_minor": 2
}
